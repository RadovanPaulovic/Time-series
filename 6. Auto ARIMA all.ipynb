{
 "cells": [
  {
   "cell_type": "markdown",
   "metadata": {},
   "source": [
    "### Importujeme potrebné balíky"
   ]
  },
  {
   "cell_type": "code",
   "execution_count": 1,
   "metadata": {},
   "outputs": [],
   "source": [
    "import numpy as np\n",
    "import pandas as pd\n",
    "import scipy\n",
    "import statsmodels.api as sm\n",
    "import matplotlib.pyplot as plt\n",
    "import seaborn as sns\n",
    "import sklearn\n",
    "from statsmodels.tsa.arima_model import ARIMA\n",
    "import yfinance\n",
    "import warnings\n",
    "warnings.filterwarnings(\"ignore\")\n",
    "sns.set()"
   ]
  },
  {
   "cell_type": "markdown",
   "metadata": {},
   "source": [
    "### Import dát"
   ]
  },
  {
   "cell_type": "code",
   "execution_count": 2,
   "metadata": {},
   "outputs": [
    {
     "name": "stdout",
     "output_type": "stream",
     "text": [
      "[*********************100%***********************]  4 of 4 completed\n"
     ]
    }
   ],
   "source": [
    "raw_data = yfinance.download (tickers = \"^GSPC ^FTSE ^N225 ^GDAXI\", start = \"1994-01-07\", end = \"2022-03-31\", \n",
    "                              interval = \"1d\", group_by = 'ticker', auto_adjust = True, treads = True)"
   ]
  },
  {
   "cell_type": "code",
   "execution_count": 3,
   "metadata": {},
   "outputs": [],
   "source": [
    "df_comp = raw_data.copy()"
   ]
  },
  {
   "cell_type": "code",
   "execution_count": 4,
   "metadata": {},
   "outputs": [],
   "source": [
    "df_comp['spx'] = df_comp['^GSPC'].Close[:]\n",
    "df_comp['dax'] = df_comp['^GDAXI'].Close[:]\n",
    "df_comp['ftse'] = df_comp['^FTSE'].Close[:]\n",
    "df_comp['nikkei'] = df_comp['^N225'].Close[:]"
   ]
  },
  {
   "cell_type": "code",
   "execution_count": 5,
   "metadata": {
    "scrolled": true
   },
   "outputs": [],
   "source": [
    "df_comp = df_comp.iloc[1:]\n",
    "del df_comp['^N225']\n",
    "del df_comp['^GSPC']\n",
    "del df_comp['^GDAXI']\n",
    "del df_comp['^FTSE']\n",
    "df_comp=df_comp.asfreq('b')\n",
    "df_comp=df_comp.fillna(method='ffill')"
   ]
  },
  {
   "cell_type": "markdown",
   "metadata": {},
   "source": [
    "### Vytvorenie výnosov"
   ]
  },
  {
   "cell_type": "code",
   "execution_count": 6,
   "metadata": {},
   "outputs": [],
   "source": [
    "df_comp['ret_spx'] = df_comp.spx.pct_change(1)*100\n",
    "df_comp['ret_ftse'] = df_comp.ftse.pct_change(1)*100\n",
    "df_comp['ret_dax'] = df_comp.dax.pct_change(1)*100\n",
    "df_comp['ret_nikkei'] = df_comp.nikkei.pct_change(1)*100"
   ]
  },
  {
   "cell_type": "markdown",
   "metadata": {},
   "source": [
    "### Rozdelenie dát 80/20"
   ]
  },
  {
   "cell_type": "code",
   "execution_count": 7,
   "metadata": {},
   "outputs": [],
   "source": [
    "size = int(len(df_comp)*0.8)\n",
    "df, df_test = df_comp.iloc[:size], df_comp.iloc[size:]"
   ]
  },
  {
   "cell_type": "markdown",
   "metadata": {},
   "source": [
    "### Auto_arima model"
   ]
  },
  {
   "cell_type": "code",
   "execution_count": 8,
   "metadata": {},
   "outputs": [],
   "source": [
    "from pmdarima.arima import auto_arima"
   ]
  },
  {
   "cell_type": "code",
   "execution_count": 9,
   "metadata": {},
   "outputs": [],
   "source": [
    "model_auto = auto_arima(df.ret_ftse[1:])"
   ]
  },
  {
   "cell_type": "code",
   "execution_count": 10,
   "metadata": {},
   "outputs": [
    {
     "data": {
      "text/plain": [
       "ARIMA(order=(4, 0, 5), scoring_args={}, suppress_warnings=True)"
      ]
     },
     "execution_count": 10,
     "metadata": {},
     "output_type": "execute_result"
    }
   ],
   "source": [
    "model_auto"
   ]
  },
  {
   "cell_type": "code",
   "execution_count": 11,
   "metadata": {},
   "outputs": [
    {
     "data": {
      "text/html": [
       "<table class=\"simpletable\">\n",
       "<caption>SARIMAX Results</caption>\n",
       "<tr>\n",
       "  <th>Dep. Variable:</th>           <td>y</td>        <th>  No. Observations:  </th>   <td>5890</td>   \n",
       "</tr>\n",
       "<tr>\n",
       "  <th>Model:</th>           <td>SARIMAX(4, 0, 5)</td> <th>  Log Likelihood     </th> <td>-9104.900</td>\n",
       "</tr>\n",
       "<tr>\n",
       "  <th>Date:</th>            <td>Mon, 02 May 2022</td> <th>  AIC                </th> <td>18231.801</td>\n",
       "</tr>\n",
       "<tr>\n",
       "  <th>Time:</th>                <td>18:17:14</td>     <th>  BIC                </th> <td>18305.292</td>\n",
       "</tr>\n",
       "<tr>\n",
       "  <th>Sample:</th>                  <td>0</td>        <th>  HQIC               </th> <td>18257.346</td>\n",
       "</tr>\n",
       "<tr>\n",
       "  <th></th>                      <td> - 5890</td>     <th>                     </th>     <td> </td>    \n",
       "</tr>\n",
       "<tr>\n",
       "  <th>Covariance Type:</th>        <td>opg</td>       <th>                     </th>     <td> </td>    \n",
       "</tr>\n",
       "</table>\n",
       "<table class=\"simpletable\">\n",
       "<tr>\n",
       "      <td></td>         <th>coef</th>     <th>std err</th>      <th>z</th>      <th>P>|z|</th>  <th>[0.025</th>    <th>0.975]</th>  \n",
       "</tr>\n",
       "<tr>\n",
       "  <th>intercept</th> <td>    0.0259</td> <td>    0.021</td> <td>    1.216</td> <td> 0.224</td> <td>   -0.016</td> <td>    0.068</td>\n",
       "</tr>\n",
       "<tr>\n",
       "  <th>ar.L1</th>     <td>   -0.0155</td> <td>    0.080</td> <td>   -0.195</td> <td> 0.846</td> <td>   -0.172</td> <td>    0.141</td>\n",
       "</tr>\n",
       "<tr>\n",
       "  <th>ar.L2</th>     <td>   -0.5732</td> <td>    0.079</td> <td>   -7.233</td> <td> 0.000</td> <td>   -0.728</td> <td>   -0.418</td>\n",
       "</tr>\n",
       "<tr>\n",
       "  <th>ar.L3</th>     <td>   -0.2194</td> <td>    0.071</td> <td>   -3.085</td> <td> 0.002</td> <td>   -0.359</td> <td>   -0.080</td>\n",
       "</tr>\n",
       "<tr>\n",
       "  <th>ar.L4</th>     <td>    0.2784</td> <td>    0.077</td> <td>    3.599</td> <td> 0.000</td> <td>    0.127</td> <td>    0.430</td>\n",
       "</tr>\n",
       "<tr>\n",
       "  <th>ma.L1</th>     <td>   -0.0074</td> <td>    0.079</td> <td>   -0.094</td> <td> 0.925</td> <td>   -0.163</td> <td>    0.148</td>\n",
       "</tr>\n",
       "<tr>\n",
       "  <th>ma.L2</th>     <td>    0.5243</td> <td>    0.080</td> <td>    6.576</td> <td> 0.000</td> <td>    0.368</td> <td>    0.681</td>\n",
       "</tr>\n",
       "<tr>\n",
       "  <th>ma.L3</th>     <td>    0.1368</td> <td>    0.069</td> <td>    1.969</td> <td> 0.049</td> <td>    0.001</td> <td>    0.273</td>\n",
       "</tr>\n",
       "<tr>\n",
       "  <th>ma.L4</th>     <td>   -0.2826</td> <td>    0.076</td> <td>   -3.709</td> <td> 0.000</td> <td>   -0.432</td> <td>   -0.133</td>\n",
       "</tr>\n",
       "<tr>\n",
       "  <th>ma.L5</th>     <td>   -0.0896</td> <td>    0.009</td> <td>  -10.054</td> <td> 0.000</td> <td>   -0.107</td> <td>   -0.072</td>\n",
       "</tr>\n",
       "<tr>\n",
       "  <th>sigma2</th>    <td>    1.2882</td> <td>    0.013</td> <td>   98.777</td> <td> 0.000</td> <td>    1.263</td> <td>    1.314</td>\n",
       "</tr>\n",
       "</table>\n",
       "<table class=\"simpletable\">\n",
       "<tr>\n",
       "  <th>Ljung-Box (L1) (Q):</th>     <td>0.02</td> <th>  Jarque-Bera (JB):  </th> <td>7353.69</td>\n",
       "</tr>\n",
       "<tr>\n",
       "  <th>Prob(Q):</th>                <td>0.88</td> <th>  Prob(JB):          </th>  <td>0.00</td>  \n",
       "</tr>\n",
       "<tr>\n",
       "  <th>Heteroskedasticity (H):</th> <td>1.18</td> <th>  Skew:              </th>  <td>-0.19</td> \n",
       "</tr>\n",
       "<tr>\n",
       "  <th>Prob(H) (two-sided):</th>    <td>0.00</td> <th>  Kurtosis:          </th>  <td>8.46</td>  \n",
       "</tr>\n",
       "</table><br/><br/>Warnings:<br/>[1] Covariance matrix calculated using the outer product of gradients (complex-step)."
      ],
      "text/plain": [
       "<class 'statsmodels.iolib.summary.Summary'>\n",
       "\"\"\"\n",
       "                               SARIMAX Results                                \n",
       "==============================================================================\n",
       "Dep. Variable:                      y   No. Observations:                 5890\n",
       "Model:               SARIMAX(4, 0, 5)   Log Likelihood               -9104.900\n",
       "Date:                Mon, 02 May 2022   AIC                          18231.801\n",
       "Time:                        18:17:14   BIC                          18305.292\n",
       "Sample:                             0   HQIC                         18257.346\n",
       "                               - 5890                                         \n",
       "Covariance Type:                  opg                                         \n",
       "==============================================================================\n",
       "                 coef    std err          z      P>|z|      [0.025      0.975]\n",
       "------------------------------------------------------------------------------\n",
       "intercept      0.0259      0.021      1.216      0.224      -0.016       0.068\n",
       "ar.L1         -0.0155      0.080     -0.195      0.846      -0.172       0.141\n",
       "ar.L2         -0.5732      0.079     -7.233      0.000      -0.728      -0.418\n",
       "ar.L3         -0.2194      0.071     -3.085      0.002      -0.359      -0.080\n",
       "ar.L4          0.2784      0.077      3.599      0.000       0.127       0.430\n",
       "ma.L1         -0.0074      0.079     -0.094      0.925      -0.163       0.148\n",
       "ma.L2          0.5243      0.080      6.576      0.000       0.368       0.681\n",
       "ma.L3          0.1368      0.069      1.969      0.049       0.001       0.273\n",
       "ma.L4         -0.2826      0.076     -3.709      0.000      -0.432      -0.133\n",
       "ma.L5         -0.0896      0.009    -10.054      0.000      -0.107      -0.072\n",
       "sigma2         1.2882      0.013     98.777      0.000       1.263       1.314\n",
       "===================================================================================\n",
       "Ljung-Box (L1) (Q):                   0.02   Jarque-Bera (JB):              7353.69\n",
       "Prob(Q):                              0.88   Prob(JB):                         0.00\n",
       "Heteroskedasticity (H):               1.18   Skew:                            -0.19\n",
       "Prob(H) (two-sided):                  0.00   Kurtosis:                         8.46\n",
       "===================================================================================\n",
       "\n",
       "Warnings:\n",
       "[1] Covariance matrix calculated using the outer product of gradients (complex-step).\n",
       "\"\"\""
      ]
     },
     "execution_count": 11,
     "metadata": {},
     "output_type": "execute_result"
    }
   ],
   "source": [
    "model_auto.summary()"
   ]
  },
  {
   "cell_type": "code",
   "execution_count": 12,
   "metadata": {},
   "outputs": [
    {
     "name": "stdout",
     "output_type": "stream",
     "text": [
      "                               SARIMAX Results                                \n",
      "==============================================================================\n",
      "Dep. Variable:                      y   No. Observations:                 5890\n",
      "Model:               SARIMAX(4, 0, 5)   Log Likelihood               -9104.900\n",
      "Date:                Mon, 02 May 2022   AIC                          18231.801\n",
      "Time:                        18:17:14   BIC                          18305.292\n",
      "Sample:                             0   HQIC                         18257.346\n",
      "                               - 5890                                         \n",
      "Covariance Type:                  opg                                         \n",
      "==============================================================================\n",
      "                 coef    std err          z      P>|z|      [0.025      0.975]\n",
      "------------------------------------------------------------------------------\n",
      "intercept      0.0259      0.021      1.216      0.224      -0.016       0.068\n",
      "ar.L1         -0.0155      0.080     -0.195      0.846      -0.172       0.141\n",
      "ar.L2         -0.5732      0.079     -7.233      0.000      -0.728      -0.418\n",
      "ar.L3         -0.2194      0.071     -3.085      0.002      -0.359      -0.080\n",
      "ar.L4          0.2784      0.077      3.599      0.000       0.127       0.430\n",
      "ma.L1         -0.0074      0.079     -0.094      0.925      -0.163       0.148\n",
      "ma.L2          0.5243      0.080      6.576      0.000       0.368       0.681\n",
      "ma.L3          0.1368      0.069      1.969      0.049       0.001       0.273\n",
      "ma.L4         -0.2826      0.076     -3.709      0.000      -0.432      -0.133\n",
      "ma.L5         -0.0896      0.009    -10.054      0.000      -0.107      -0.072\n",
      "sigma2         1.2882      0.013     98.777      0.000       1.263       1.314\n",
      "===================================================================================\n",
      "Ljung-Box (L1) (Q):                   0.02   Jarque-Bera (JB):              7353.69\n",
      "Prob(Q):                              0.88   Prob(JB):                         0.00\n",
      "Heteroskedasticity (H):               1.18   Skew:                            -0.19\n",
      "Prob(H) (two-sided):                  0.00   Kurtosis:                         8.46\n",
      "===================================================================================\n",
      "\n",
      "Warnings:\n",
      "[1] Covariance matrix calculated using the outer product of gradients (complex-step).\n"
     ]
    }
   ],
   "source": [
    "print(model_auto.summary())"
   ]
  },
  {
   "cell_type": "markdown",
   "metadata": {},
   "source": [
    "### Auto ARIMA s plnými kritériami a definíciami"
   ]
  },
  {
   "cell_type": "code",
   "execution_count": 13,
   "metadata": {},
   "outputs": [],
   "source": [
    "model_auto_bez = auto_arima(\n",
    "    \n",
    "df_comp.ret_ftse[1:], \n",
    "exogenous = df_comp[['ret_spx', 'ret_dax', 'ret_nikkei']][1:], \n",
    " max_order = None, max_p = 7, max_q = 7, max_d = 2, max_P = 4, max_Q = 4, max_D = 2,\n",
    "maxiter = 50, alpha = 0.05, n_jobs = -1, \n",
    "trend = 'ct', information_criterion = 'oob',\n",
    "out_of_sample = int(len(df_comp)*0.2)\n",
    "\n",
    ")\n",
    "\n",
    "# !!! Important Note: In pdmarima v1.5.2, out_of_sample_size is replaced with out_of_sample, so make sure to use the latter!\n",
    "\n",
    "\n",
    "# exogenous -> vonkajšie faktory (napr. iné časové rady)\n",
    "# m -> dĺžka sezónneho cyklu\n",
    "# max_order -> maximálne množstvo premenných, ktoré sa majú použiť v regresii (p + q)\n",
    "# max_p -> maximum AR komponentov\n",
    "# max_q -> maximum MA komponentov\n",
    "# max_d -> maximum integrácií\n",
    "# maxiter -> maximum iterácií ktoré dávame modelu na konvergenciu koeficientov (s rastúcim poradím sa stáva ťažším)\n",
    "# alpha -> úroveň významnosti, predvolená hodnota je 5 %, ktorú by sme mali používať väčšinu času\n",
    "# n_jobs -> koľko modelov sa zmestí naraz (-1 označuje „toľko, koľko je možné“)\n",
    "# trend -> \"ct\" najčastejšie\n",
    "# information_criterion -> 'aic', 'aicc', 'bic', 'hqic', 'oob' \n",
    "#        (Akaike Information Criterion, Corrected Akaike Information Criterion,\n",
    "#        Bayesian Information Criterion, Hannan-Quinn Information Criterion, alebo\n",
    "# \"out of bag\" - pre overenie skóre - v tomto poradí)\n",
    "# out_of_smaple -> overí výber modelu (odovzdať celý súbor údajov a nastaviť 20 % ako out_of_sample_size)"
   ]
  },
  {
   "cell_type": "code",
   "execution_count": 14,
   "metadata": {},
   "outputs": [
    {
     "data": {
      "text/html": [
       "<table class=\"simpletable\">\n",
       "<caption>SARIMAX Results</caption>\n",
       "<tr>\n",
       "  <th>Dep. Variable:</th>           <td>y</td>        <th>  No. Observations:  </th>   <td>7363</td>   \n",
       "</tr>\n",
       "<tr>\n",
       "  <th>Model:</th>           <td>SARIMAX(3, 0, 0)</td> <th>  Log Likelihood     </th> <td>-7347.538</td>\n",
       "</tr>\n",
       "<tr>\n",
       "  <th>Date:</th>            <td>Mon, 02 May 2022</td> <th>  AIC                </th> <td>14713.075</td>\n",
       "</tr>\n",
       "<tr>\n",
       "  <th>Time:</th>                <td>18:18:46</td>     <th>  BIC                </th> <td>14775.213</td>\n",
       "</tr>\n",
       "<tr>\n",
       "  <th>Sample:</th>             <td>01-10-1994</td>    <th>  HQIC               </th> <td>14734.433</td>\n",
       "</tr>\n",
       "<tr>\n",
       "  <th></th>                   <td>- 03-30-2022</td>   <th>                     </th>     <td> </td>    \n",
       "</tr>\n",
       "<tr>\n",
       "  <th>Covariance Type:</th>        <td>opg</td>       <th>                     </th>     <td> </td>    \n",
       "</tr>\n",
       "</table>\n",
       "<table class=\"simpletable\">\n",
       "<tr>\n",
       "       <td></td>         <th>coef</th>     <th>std err</th>      <th>z</th>      <th>P>|z|</th>  <th>[0.025</th>    <th>0.975]</th>  \n",
       "</tr>\n",
       "<tr>\n",
       "  <th>intercept</th>  <td>   -0.0038</td> <td>    0.015</td> <td>   -0.256</td> <td> 0.798</td> <td>   -0.033</td> <td>    0.026</td>\n",
       "</tr>\n",
       "<tr>\n",
       "  <th>drift</th>      <td>-1.483e-06</td> <td> 3.84e-06</td> <td>   -0.386</td> <td> 0.700</td> <td>-9.01e-06</td> <td> 6.05e-06</td>\n",
       "</tr>\n",
       "<tr>\n",
       "  <th>ret_spx</th>    <td>    0.0982</td> <td>    0.005</td> <td>   19.406</td> <td> 0.000</td> <td>    0.088</td> <td>    0.108</td>\n",
       "</tr>\n",
       "<tr>\n",
       "  <th>ret_dax</th>    <td>    0.5670</td> <td>    0.004</td> <td>  127.040</td> <td> 0.000</td> <td>    0.558</td> <td>    0.576</td>\n",
       "</tr>\n",
       "<tr>\n",
       "  <th>ret_nikkei</th> <td>    0.0713</td> <td>    0.004</td> <td>   18.463</td> <td> 0.000</td> <td>    0.064</td> <td>    0.079</td>\n",
       "</tr>\n",
       "<tr>\n",
       "  <th>ar.L1</th>      <td>   -0.0945</td> <td>    0.007</td> <td>  -14.490</td> <td> 0.000</td> <td>   -0.107</td> <td>   -0.082</td>\n",
       "</tr>\n",
       "<tr>\n",
       "  <th>ar.L2</th>      <td>   -0.0231</td> <td>    0.009</td> <td>   -2.650</td> <td> 0.008</td> <td>   -0.040</td> <td>   -0.006</td>\n",
       "</tr>\n",
       "<tr>\n",
       "  <th>ar.L3</th>      <td>   -0.0591</td> <td>    0.008</td> <td>   -7.050</td> <td> 0.000</td> <td>   -0.075</td> <td>   -0.043</td>\n",
       "</tr>\n",
       "<tr>\n",
       "  <th>sigma2</th>     <td>    0.4309</td> <td>    0.004</td> <td>  109.410</td> <td> 0.000</td> <td>    0.423</td> <td>    0.439</td>\n",
       "</tr>\n",
       "</table>\n",
       "<table class=\"simpletable\">\n",
       "<tr>\n",
       "  <th>Ljung-Box (L1) (Q):</th>     <td>0.00</td> <th>  Jarque-Bera (JB):  </th> <td>16170.87</td>\n",
       "</tr>\n",
       "<tr>\n",
       "  <th>Prob(Q):</th>                <td>0.99</td> <th>  Prob(JB):          </th>   <td>0.00</td>  \n",
       "</tr>\n",
       "<tr>\n",
       "  <th>Heteroskedasticity (H):</th> <td>0.50</td> <th>  Skew:              </th>   <td>0.22</td>  \n",
       "</tr>\n",
       "<tr>\n",
       "  <th>Prob(H) (two-sided):</th>    <td>0.00</td> <th>  Kurtosis:          </th>   <td>10.25</td> \n",
       "</tr>\n",
       "</table><br/><br/>Warnings:<br/>[1] Covariance matrix calculated using the outer product of gradients (complex-step)."
      ],
      "text/plain": [
       "<class 'statsmodels.iolib.summary.Summary'>\n",
       "\"\"\"\n",
       "                               SARIMAX Results                                \n",
       "==============================================================================\n",
       "Dep. Variable:                      y   No. Observations:                 7363\n",
       "Model:               SARIMAX(3, 0, 0)   Log Likelihood               -7347.538\n",
       "Date:                Mon, 02 May 2022   AIC                          14713.075\n",
       "Time:                        18:18:46   BIC                          14775.213\n",
       "Sample:                    01-10-1994   HQIC                         14734.433\n",
       "                         - 03-30-2022                                         \n",
       "Covariance Type:                  opg                                         \n",
       "==============================================================================\n",
       "                 coef    std err          z      P>|z|      [0.025      0.975]\n",
       "------------------------------------------------------------------------------\n",
       "intercept     -0.0038      0.015     -0.256      0.798      -0.033       0.026\n",
       "drift      -1.483e-06   3.84e-06     -0.386      0.700   -9.01e-06    6.05e-06\n",
       "ret_spx        0.0982      0.005     19.406      0.000       0.088       0.108\n",
       "ret_dax        0.5670      0.004    127.040      0.000       0.558       0.576\n",
       "ret_nikkei     0.0713      0.004     18.463      0.000       0.064       0.079\n",
       "ar.L1         -0.0945      0.007    -14.490      0.000      -0.107      -0.082\n",
       "ar.L2         -0.0231      0.009     -2.650      0.008      -0.040      -0.006\n",
       "ar.L3         -0.0591      0.008     -7.050      0.000      -0.075      -0.043\n",
       "sigma2         0.4309      0.004    109.410      0.000       0.423       0.439\n",
       "===================================================================================\n",
       "Ljung-Box (L1) (Q):                   0.00   Jarque-Bera (JB):             16170.87\n",
       "Prob(Q):                              0.99   Prob(JB):                         0.00\n",
       "Heteroskedasticity (H):               0.50   Skew:                             0.22\n",
       "Prob(H) (two-sided):                  0.00   Kurtosis:                        10.25\n",
       "===================================================================================\n",
       "\n",
       "Warnings:\n",
       "[1] Covariance matrix calculated using the outer product of gradients (complex-step).\n",
       "\"\"\""
      ]
     },
     "execution_count": 14,
     "metadata": {},
     "output_type": "execute_result"
    }
   ],
   "source": [
    "model_auto_bez.summary()"
   ]
  },
  {
   "cell_type": "code",
   "execution_count": 15,
   "metadata": {},
   "outputs": [
    {
     "name": "stdout",
     "output_type": "stream",
     "text": [
      "                               SARIMAX Results                                \n",
      "==============================================================================\n",
      "Dep. Variable:                      y   No. Observations:                 7363\n",
      "Model:               SARIMAX(3, 0, 0)   Log Likelihood               -7347.538\n",
      "Date:                Mon, 02 May 2022   AIC                          14713.075\n",
      "Time:                        18:18:46   BIC                          14775.213\n",
      "Sample:                    01-10-1994   HQIC                         14734.433\n",
      "                         - 03-30-2022                                         \n",
      "Covariance Type:                  opg                                         \n",
      "==============================================================================\n",
      "                 coef    std err          z      P>|z|      [0.025      0.975]\n",
      "------------------------------------------------------------------------------\n",
      "intercept     -0.0038      0.015     -0.256      0.798      -0.033       0.026\n",
      "drift      -1.483e-06   3.84e-06     -0.386      0.700   -9.01e-06    6.05e-06\n",
      "ret_spx        0.0982      0.005     19.406      0.000       0.088       0.108\n",
      "ret_dax        0.5670      0.004    127.040      0.000       0.558       0.576\n",
      "ret_nikkei     0.0713      0.004     18.463      0.000       0.064       0.079\n",
      "ar.L1         -0.0945      0.007    -14.490      0.000      -0.107      -0.082\n",
      "ar.L2         -0.0231      0.009     -2.650      0.008      -0.040      -0.006\n",
      "ar.L3         -0.0591      0.008     -7.050      0.000      -0.075      -0.043\n",
      "sigma2         0.4309      0.004    109.410      0.000       0.423       0.439\n",
      "===================================================================================\n",
      "Ljung-Box (L1) (Q):                   0.00   Jarque-Bera (JB):             16170.87\n",
      "Prob(Q):                              0.99   Prob(JB):                         0.00\n",
      "Heteroskedasticity (H):               0.50   Skew:                             0.22\n",
      "Prob(H) (two-sided):                  0.00   Kurtosis:                        10.25\n",
      "===================================================================================\n",
      "\n",
      "Warnings:\n",
      "[1] Covariance matrix calculated using the outer product of gradients (complex-step).\n"
     ]
    }
   ],
   "source": [
    "print(model_auto_bez.summary())"
   ]
  },
  {
   "cell_type": "code",
   "execution_count": 16,
   "metadata": {},
   "outputs": [
    {
     "data": {
      "image/png": "[encoded data removed]",
      "text/plain": [
       "<Figure size 432x288 with 4 Axes>"
      ]
     },
     "metadata": {},
     "output_type": "display_data"
    }
   ],
   "source": [
    "model_auto_bez.plot_diagnostics()\n",
    "plt.show()"
   ]
  },
  {
   "cell_type": "code",
   "execution_count": 17,
   "metadata": {
    "scrolled": true
   },
   "outputs": [],
   "source": [
    "model_auto = auto_arima(df_comp.ret_ftse[1:], exogenous = df_comp[['ret_spx', 'ret_dax', 'ret_nikkei']][1:], m = 5,\n",
    "                       max_order = None, max_p = 7, max_q = 7, max_d = 2, max_P = 4, max_Q = 4, max_D = 2,\n",
    "                       maxiter = 50, alpha = 0.05, n_jobs = -1, trend = 'ct', information_criterion = 'oob',\n",
    "                       out_of_sample = int(len(df_comp)*0.2))\n",
    "\n",
    "\n",
    "# !!! Important Note: In pdmarima v1.5.2, out_of_sample_size is replaced with out_of_sample, so make sure to use the latter!\n",
    "\n",
    "\n",
    "# exogenous -> vonkajšie faktory (napr. iné časové rady)\n",
    "# m -> dĺžka sezónneho cyklu\n",
    "# max_order -> maximálne množstvo premenných, ktoré sa majú použiť v regresii (p + q)\n",
    "# max_p -> maximum AR komponentov\n",
    "# max_q -> maximum MA komponentov\n",
    "# max_d -> maximum integrácií\n",
    "# maxiter -> maximum iterácií ktoré dávame modelu na konvergenciu koeficientov (s rastúcim poradím sa stáva ťažším)\n",
    "# alpha -> úroveň významnosti, predvolená hodnota je 5 %, ktorú by sme mali používať väčšinu času\n",
    "# n_jobs -> koľko modelov sa zmestí naraz (-1 označuje „toľko, koľko je možné“)\n",
    "# trend -> \"ct\" najčastejšie\n",
    "# information_criterion -> 'aic', 'aicc', 'bic', 'hqic', 'oob' \n",
    "#        (Akaike Information Criterion, Corrected Akaike Information Criterion,\n",
    "#        Bayesian Information Criterion, Hannan-Quinn Information Criterion, alebo\n",
    "# \"out of bag\" - pre overenie skóre - v tomto poradí)\n",
    "# out_of_smaple -> overí výber modelu (odovzdať celý súbor údajov a nastaviť 20 % ako out_of_sample_size)"
   ]
  },
  {
   "cell_type": "code",
   "execution_count": 18,
   "metadata": {},
   "outputs": [
    {
     "data": {
      "text/html": [
       "<table class=\"simpletable\">\n",
       "<caption>SARIMAX Results</caption>\n",
       "<tr>\n",
       "  <th>Dep. Variable:</th>                     <td>y</td>                   <th>  No. Observations:  </th>   <td>7363</td>   \n",
       "</tr>\n",
       "<tr>\n",
       "  <th>Model:</th>           <td>SARIMAX(1, 0, 1)x(0, 0, [1, 2, 3], 5)</td> <th>  Log Likelihood     </th> <td>-7345.978</td>\n",
       "</tr>\n",
       "<tr>\n",
       "  <th>Date:</th>                      <td>Mon, 02 May 2022</td>            <th>  AIC                </th> <td>14713.957</td>\n",
       "</tr>\n",
       "<tr>\n",
       "  <th>Time:</th>                          <td>18:25:31</td>                <th>  BIC                </th> <td>14789.903</td>\n",
       "</tr>\n",
       "<tr>\n",
       "  <th>Sample:</th>                       <td>01-10-1994</td>               <th>  HQIC               </th> <td>14740.060</td>\n",
       "</tr>\n",
       "<tr>\n",
       "  <th></th>                             <td>- 03-30-2022</td>              <th>                     </th>     <td> </td>    \n",
       "</tr>\n",
       "<tr>\n",
       "  <th>Covariance Type:</th>                  <td>opg</td>                  <th>                     </th>     <td> </td>    \n",
       "</tr>\n",
       "</table>\n",
       "<table class=\"simpletable\">\n",
       "<tr>\n",
       "       <td></td>         <th>coef</th>     <th>std err</th>      <th>z</th>      <th>P>|z|</th>  <th>[0.025</th>    <th>0.975]</th>  \n",
       "</tr>\n",
       "<tr>\n",
       "  <th>intercept</th>  <td>   -0.0037</td> <td>    0.010</td> <td>   -0.381</td> <td> 0.703</td> <td>   -0.022</td> <td>    0.015</td>\n",
       "</tr>\n",
       "<tr>\n",
       "  <th>drift</th>      <td> -1.43e-06</td> <td> 2.45e-06</td> <td>   -0.585</td> <td> 0.559</td> <td>-6.22e-06</td> <td> 3.36e-06</td>\n",
       "</tr>\n",
       "<tr>\n",
       "  <th>ret_spx</th>    <td>    0.0982</td> <td>    0.005</td> <td>   19.110</td> <td> 0.000</td> <td>    0.088</td> <td>    0.108</td>\n",
       "</tr>\n",
       "<tr>\n",
       "  <th>ret_dax</th>    <td>    0.5670</td> <td>    0.005</td> <td>  125.883</td> <td> 0.000</td> <td>    0.558</td> <td>    0.576</td>\n",
       "</tr>\n",
       "<tr>\n",
       "  <th>ret_nikkei</th> <td>    0.0713</td> <td>    0.004</td> <td>   18.378</td> <td> 0.000</td> <td>    0.064</td> <td>    0.079</td>\n",
       "</tr>\n",
       "<tr>\n",
       "  <th>ar.L1</th>      <td>    0.2082</td> <td>    0.082</td> <td>    2.527</td> <td> 0.011</td> <td>    0.047</td> <td>    0.370</td>\n",
       "</tr>\n",
       "<tr>\n",
       "  <th>ma.L1</th>      <td>   -0.3027</td> <td>    0.082</td> <td>   -3.694</td> <td> 0.000</td> <td>   -0.463</td> <td>   -0.142</td>\n",
       "</tr>\n",
       "<tr>\n",
       "  <th>ma.S.L5</th>    <td>   -0.0246</td> <td>    0.008</td> <td>   -3.083</td> <td> 0.002</td> <td>   -0.040</td> <td>   -0.009</td>\n",
       "</tr>\n",
       "<tr>\n",
       "  <th>ma.S.L10</th>   <td>   -0.0449</td> <td>    0.009</td> <td>   -5.255</td> <td> 0.000</td> <td>   -0.062</td> <td>   -0.028</td>\n",
       "</tr>\n",
       "<tr>\n",
       "  <th>ma.S.L15</th>   <td>   -0.0232</td> <td>    0.008</td> <td>   -2.814</td> <td> 0.005</td> <td>   -0.039</td> <td>   -0.007</td>\n",
       "</tr>\n",
       "<tr>\n",
       "  <th>sigma2</th>     <td>    0.4321</td> <td>    0.004</td> <td>  109.619</td> <td> 0.000</td> <td>    0.424</td> <td>    0.440</td>\n",
       "</tr>\n",
       "</table>\n",
       "<table class=\"simpletable\">\n",
       "<tr>\n",
       "  <th>Ljung-Box (L1) (Q):</th>     <td>0.00</td> <th>  Jarque-Bera (JB):  </th> <td>15903.98</td>\n",
       "</tr>\n",
       "<tr>\n",
       "  <th>Prob(Q):</th>                <td>0.98</td> <th>  Prob(JB):          </th>   <td>0.00</td>  \n",
       "</tr>\n",
       "<tr>\n",
       "  <th>Heteroskedasticity (H):</th> <td>0.50</td> <th>  Skew:              </th>   <td>0.20</td>  \n",
       "</tr>\n",
       "<tr>\n",
       "  <th>Prob(H) (two-sided):</th>    <td>0.00</td> <th>  Kurtosis:          </th>   <td>10.19</td> \n",
       "</tr>\n",
       "</table><br/><br/>Warnings:<br/>[1] Covariance matrix calculated using the outer product of gradients (complex-step)."
      ],
      "text/plain": [
       "<class 'statsmodels.iolib.summary.Summary'>\n",
       "\"\"\"\n",
       "                                         SARIMAX Results                                         \n",
       "=================================================================================================\n",
       "Dep. Variable:                                         y   No. Observations:                 7363\n",
       "Model:             SARIMAX(1, 0, 1)x(0, 0, [1, 2, 3], 5)   Log Likelihood               -7345.978\n",
       "Date:                                   Mon, 02 May 2022   AIC                          14713.957\n",
       "Time:                                           18:25:31   BIC                          14789.903\n",
       "Sample:                                       01-10-1994   HQIC                         14740.060\n",
       "                                            - 03-30-2022                                         \n",
       "Covariance Type:                                     opg                                         \n",
       "==============================================================================\n",
       "                 coef    std err          z      P>|z|      [0.025      0.975]\n",
       "------------------------------------------------------------------------------\n",
       "intercept     -0.0037      0.010     -0.381      0.703      -0.022       0.015\n",
       "drift       -1.43e-06   2.45e-06     -0.585      0.559   -6.22e-06    3.36e-06\n",
       "ret_spx        0.0982      0.005     19.110      0.000       0.088       0.108\n",
       "ret_dax        0.5670      0.005    125.883      0.000       0.558       0.576\n",
       "ret_nikkei     0.0713      0.004     18.378      0.000       0.064       0.079\n",
       "ar.L1          0.2082      0.082      2.527      0.011       0.047       0.370\n",
       "ma.L1         -0.3027      0.082     -3.694      0.000      -0.463      -0.142\n",
       "ma.S.L5       -0.0246      0.008     -3.083      0.002      -0.040      -0.009\n",
       "ma.S.L10      -0.0449      0.009     -5.255      0.000      -0.062      -0.028\n",
       "ma.S.L15      -0.0232      0.008     -2.814      0.005      -0.039      -0.007\n",
       "sigma2         0.4321      0.004    109.619      0.000       0.424       0.440\n",
       "===================================================================================\n",
       "Ljung-Box (L1) (Q):                   0.00   Jarque-Bera (JB):             15903.98\n",
       "Prob(Q):                              0.98   Prob(JB):                         0.00\n",
       "Heteroskedasticity (H):               0.50   Skew:                             0.20\n",
       "Prob(H) (two-sided):                  0.00   Kurtosis:                        10.19\n",
       "===================================================================================\n",
       "\n",
       "Warnings:\n",
       "[1] Covariance matrix calculated using the outer product of gradients (complex-step).\n",
       "\"\"\""
      ]
     },
     "execution_count": 18,
     "metadata": {},
     "output_type": "execute_result"
    }
   ],
   "source": [
    "model_auto.summary()"
   ]
  },
  {
   "cell_type": "code",
   "execution_count": null,
   "metadata": {},
   "outputs": [],
   "source": []
  },
  {
   "cell_type": "code",
   "execution_count": null,
   "metadata": {},
   "outputs": [],
   "source": []
  },
  {
   "cell_type": "code",
   "execution_count": null,
   "metadata": {},
   "outputs": [],
   "source": []
  }
 ],
 "metadata": {
  "kernelspec": {
   "display_name": "Python 3",
   "language": "python",
   "name": "python3"
  },
  "language_info": {
   "codemirror_mode": {
    "name": "ipython",
    "version": 3
   },
   "file_extension": ".py",
   "mimetype": "text/x-python",
   "name": "python",
   "nbconvert_exporter": "python",
   "pygments_lexer": "ipython3",
   "version": "3.8.8"
  }
 },
 "nbformat": 4,
 "nbformat_minor": 2
}
